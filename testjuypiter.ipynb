{
 "cells": [
  {
   "cell_type": "markdown",
   "metadata": {},
   "source": [
    "# Lösung mit Python Funktionen "
   ]
  },
  {
   "cell_type": "code",
   "execution_count": 1,
   "metadata": {},
   "outputs": [
    {
     "name": "stdout",
     "output_type": "stream",
     "text": [
      "4.410934744285714\n"
     ]
    }
   ],
   "source": [
    "number = [1,2,3,4,5,6,9.87654321]\n",
    "\n",
    "print(sum(number)/len(number))"
   ]
  },
  {
   "cell_type": "markdown",
   "metadata": {},
   "source": [
    "# Lösung mit pandas"
   ]
  },
  {
   "cell_type": "code",
   "execution_count": 3,
   "metadata": {},
   "outputs": [
    {
     "name": "stdout",
     "output_type": "stream",
     "text": [
      "Der Mittelwert ist: 4.410934744285714\n"
     ]
    }
   ],
   "source": [
    "import pandas as pd\n",
    "daten = {'Werte': [1,2,3,4,5,6,9.87654321]}\n",
    "df = pd.DataFrame(daten)\n",
    "\n",
    "mittelwert = df['Werte'].mean()\n",
    "\n",
    "print(\"Der Mittelwert ist:\", mittelwert)\n"
   ]
  }
 ],
 "metadata": {
  "kernelspec": {
   "display_name": "Python 3",
   "language": "python",
   "name": "python3"
  },
  "language_info": {
   "codemirror_mode": {
    "name": "ipython",
    "version": 3
   },
   "file_extension": ".py",
   "mimetype": "text/x-python",
   "name": "python",
   "nbconvert_exporter": "python",
   "pygments_lexer": "ipython3",
   "version": "3.12.1"
  }
 },
 "nbformat": 4,
 "nbformat_minor": 2
}
