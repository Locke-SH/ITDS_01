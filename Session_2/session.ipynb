{
 "cells": [
  {
   "cell_type": "code",
   "execution_count": 8,
   "metadata": {},
   "outputs": [
    {
     "name": "stdout",
     "output_type": "stream",
     "text": [
      "           Datum  Bewoelkung  Temperatur  Windgeschwindigkeit  Wettercode\n",
      "0     2012-01-01         8.0      9.8250                   14        58.0\n",
      "1     2012-01-02         7.0      7.4375                   12         NaN\n",
      "2     2012-01-03         8.0      5.5375                   18        63.0\n",
      "3     2012-01-04         4.0      5.6875                   19        80.0\n",
      "4     2012-01-05         6.0      5.3000                   23        80.0\n",
      "...          ...         ...         ...                  ...         ...\n",
      "2596  2019-07-28         3.0     23.3500                   14         5.0\n",
      "2597  2019-07-29         6.0     25.2500                    7        61.0\n",
      "2598  2019-07-30         7.0     20.7375                    8        61.0\n",
      "2599  2019-07-31         6.0     20.4500                    7        61.0\n",
      "2600  2019-08-01         5.0     21.0625                    9        61.0\n",
      "\n",
      "[2601 rows x 5 columns]\n"
     ]
    }
   ],
   "source": [
    "import pandas as pd\n",
    "import matplotlib.pyplot as plt\n",
    "\n",
    "wetter = pd.read_csv(\"../Daten/wetter.csv\")\n",
    "temperatur_daten = wetter[\"Temperatur\"]\n",
    "temperatur_daten = wetter[\"Datum\"]\n",
    "\n",
    "print(wetter)"
   ]
  }
 ],
 "metadata": {
  "kernelspec": {
   "display_name": "Python 3",
   "language": "python",
   "name": "python3"
  },
  "language_info": {
   "codemirror_mode": {
    "name": "ipython",
    "version": 3
   },
   "file_extension": ".py",
   "mimetype": "text/x-python",
   "name": "python",
   "nbconvert_exporter": "python",
   "pygments_lexer": "ipython3",
   "version": "3.12.1"
  }
 },
 "nbformat": 4,
 "nbformat_minor": 2
}
