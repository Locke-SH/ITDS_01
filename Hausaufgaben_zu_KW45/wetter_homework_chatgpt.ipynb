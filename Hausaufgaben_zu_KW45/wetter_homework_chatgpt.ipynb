{
 "cells": [
  {
   "cell_type": "markdown",
   "metadata": {},
   "source": []
  },
  {
   "cell_type": "code",
   "execution_count": null,
   "metadata": {},
   "outputs": [],
   "source": [
    "import pandas as pd\n",
    "from scipy import stats"
   ]
  },
  {
   "cell_type": "code",
   "execution_count": 13,
   "metadata": {},
   "outputs": [
    {
     "name": "stdout",
     "output_type": "stream",
     "text": [
      "/workspaces/ITDS_01/Hausaufgaben_zu_KW45\n"
     ]
    }
   ],
   "source": [
    "import os \n",
    "print(os.getcwd())"
   ]
  },
  {
   "cell_type": "code",
   "execution_count": null,
   "metadata": {},
   "outputs": [],
   "source": [
    "# CSV-Datei laden\n",
    "df_wetter = pd.read_csv(\"/workspaces/ITDS_01/Daten/wetter.csv\")\n",
    "df_umsatz = pd.read_csv(\"/workspaces/ITDS_01/Daten/umsatzdaten_gekuerzt.csv\")\n",
    "df_kiwo = pd.read_csv(\"/workspaces/ITDS_01/Daten/kiwo.csv\")"
   ]
  },
  {
   "cell_type": "code",
   "execution_count": null,
   "metadata": {},
   "outputs": [],
   "source": [
    "# Datumsspalte als Datumsobjekt formatieren\n",
    "df['Datum'] = pd.to_datetime(df['Datum'], format='%Y-%m-%d')"
   ]
  },
  {
   "cell_type": "code",
   "execution_count": 5,
   "metadata": {},
   "outputs": [
    {
     "name": "stdout",
     "output_type": "stream",
     "text": [
      "Gesamtdurchschnittstemperatur: 12.10°C\n"
     ]
    }
   ],
   "source": [
    "# Schritt 1: Gesamtdurchschnittstemperatur berechnen\n",
    "gesamt_durchschnitt_temperatur = df['Temperatur'].mean()\n",
    "print(f\"Gesamtdurchschnittstemperatur: {gesamt_durchschnitt_temperatur:.2f}°C\")"
   ]
  },
  {
   "cell_type": "code",
   "execution_count": 7,
   "metadata": {},
   "outputs": [
    {
     "name": "stdout",
     "output_type": "stream",
     "text": [
      "Durchschnittstemperatur im Juli: 20.75°C\n"
     ]
    }
   ],
   "source": [
    "# Schritt 2: Durchschnittstemperatur für den Monat Juli berechnen\n",
    "df_juli = df[df['Datum'].dt.month == 7]\n",
    "juli_durchschnitt_temperatur = df_juli['Temperatur'].mean()\n",
    "print(f\"Durchschnittstemperatur im Juli: {juli_durchschnitt_temperatur:.2f}°C\")"
   ]
  },
  {
   "cell_type": "code",
   "execution_count": 12,
   "metadata": {},
   "outputs": [
    {
     "name": "stdout",
     "output_type": "stream",
     "text": [
      "Durchschnittstemperatur im Mai: 15.24°C\n"
     ]
    }
   ],
   "source": [
    "# Schritt 3: Vergleich der Durchschnittstemperaturen zwischen Mai und Juli\n",
    "df_mai = df[df['Datum'].dt.month == 5]\n",
    "mai_durchschnitt_temperatur = df_mai['Temperatur'].mean()\n",
    "print(f\"Durchschnittstemperatur im Mai: {mai_durchschnitt_temperatur:.2f}°C\")"
   ]
  },
  {
   "cell_type": "code",
   "execution_count": 9,
   "metadata": {},
   "outputs": [],
   "source": [
    "# T-Test für signifikanten Unterschied\n",
    "t_stat, p_value = stats.ttest_ind(df_juli['Temperatur'].dropna(), df_mai['Temperatur'].dropna(), equal_var=False)\n"
   ]
  },
  {
   "cell_type": "code",
   "execution_count": null,
   "metadata": {},
   "outputs": [],
   "source": []
  },
  {
   "cell_type": "code",
   "execution_count": 10,
   "metadata": {},
   "outputs": [
    {
     "name": "stdout",
     "output_type": "stream",
     "text": [
      "Durchschnittstemperatur im Mai: 15.24°C\n",
      "T-Statistik: 15.94, p-Wert: 0.0000\n"
     ]
    }
   ],
   "source": [
    "print(f\"Durchschnittstemperatur im Mai: {mai_durchschnitt_temperatur:.2f}°C\")\n",
    "print(f\"T-Statistik: {t_stat:.2f}, p-Wert: {p_value:.4f}\")"
   ]
  },
  {
   "cell_type": "code",
   "execution_count": 11,
   "metadata": {},
   "outputs": [
    {
     "name": "stdout",
     "output_type": "stream",
     "text": [
      "Die Durchschnittstemperaturen im Mai und Juli unterscheiden sich signifikant.\n"
     ]
    }
   ],
   "source": [
    "if p_value < 0.05:\n",
    "    print(\"Die Durchschnittstemperaturen im Mai und Juli unterscheiden sich signifikant.\")\n",
    "else:\n",
    "    print(\"Die Durchschnittstemperaturen im Mai und Juli unterscheiden sich nicht signifikant.\")"
   ]
  }
 ],
 "metadata": {
  "kernelspec": {
   "display_name": "Python 3",
   "language": "python",
   "name": "python3"
  },
  "language_info": {
   "codemirror_mode": {
    "name": "ipython",
    "version": 3
   },
   "file_extension": ".py",
   "mimetype": "text/x-python",
   "name": "python",
   "nbconvert_exporter": "python",
   "pygments_lexer": "ipython3",
   "version": "3.12.1"
  }
 },
 "nbformat": 4,
 "nbformat_minor": 2
}
